{
 "cells": [
  {
   "cell_type": "code",
   "execution_count": 1,
   "metadata": {},
   "outputs": [],
   "source": [
    "import numpy as np\n",
    "import tensorflow as tf\n",
    "from tensorflow.examples.tutorials.mnist import input_data"
   ]
  },
  {
   "cell_type": "code",
   "execution_count": 3,
   "metadata": {},
   "outputs": [
    {
     "name": "stdout",
     "output_type": "stream",
     "text": [
      "Extracting MNIST_data/train-images-idx3-ubyte.gz\n",
      "Extracting MNIST_data/train-labels-idx1-ubyte.gz\n",
      "Extracting MNIST_data/t10k-images-idx3-ubyte.gz\n",
      "Extracting MNIST_data/t10k-labels-idx1-ubyte.gz\n"
     ]
    }
   ],
   "source": [
    "mnist=input_data.read_data_sets(\"MNIST_data/\",one_hot=True)  ## Loading the dataset"
   ]
  },
  {
   "cell_type": "code",
   "execution_count": 83,
   "metadata": {},
   "outputs": [],
   "source": [
    "n_input=784         ## Initialising the size of the input\n",
    "n_hidden1=256       ## Initialising the size of the first hidden layer.\n",
    "n_hidden2=256       ## Initialising the size of the second hidden layer.\n",
    "n_classes=10        ## Initialising the no of classes."
   ]
  },
  {
   "cell_type": "code",
   "execution_count": 84,
   "metadata": {},
   "outputs": [],
   "source": [
    "weights={                                                          ## Initialising the weights with random values.\n",
    "    'h1':tf.Variable(tf.random.normal([n_input,n_hidden1])),   \n",
    "    'h2':tf.Variable(tf.random.normal([n_hidden1,n_hidden2])),\n",
    "    'out':tf.Variable(tf.random.normal([n_hidden2,n_classes]))\n",
    "}\n",
    "                                                                     \n",
    "biases={                                                            ## Initialising the biases with random values\n",
    "    'h1':tf.Variable(tf.random.normal([n_hidden1])),\n",
    "    'h2':tf.Variable(tf.random.normal([n_hidden2])),\n",
    "    'out':tf.Variable(tf.random.normal([n_classes]))\n",
    "}"
   ]
  },
  {
   "cell_type": "code",
   "execution_count": 85,
   "metadata": {},
   "outputs": [],
   "source": [
    "def forward_propagation(x,weights,biases):                           ## Here we are forward propagating the code. The input is\n",
    "    in_layer1=tf.add(tf.matmul(x,weights['h1']),biases['h1'])        ## passed through two input layers till it reaches the output\n",
    "    out_layer1=tf.nn.relu(in_layer1)                                 ## layer where we get our output.\n",
    "    in_layer2=tf.add(tf.matmul(out_layer1,weights['h2']),biases['h2'])\n",
    "    out_layer2=tf.nn.relu(in_layer2)\n",
    "    output=tf.add(tf.matmul(out_layer2,weights['out']),biases['out'])\n",
    "    return output"
   ]
  },
  {
   "cell_type": "code",
   "execution_count": 86,
   "metadata": {},
   "outputs": [],
   "source": [
    "x=tf.placeholder(\"float\",[None,n_input])            ## Here we get the the input data.\n",
    "y=tf.placeholder(tf.int32,[None,n_classes])         ## Here we get the output data."
   ]
  },
  {
   "cell_type": "code",
   "execution_count": 87,
   "metadata": {},
   "outputs": [],
   "source": [
    "pred=forward_propagation(x,weights,biases)    ## Here we get the predictions of the input dataest you pass.\n",
    "predictions=tf.argmax(pred,1)                 ## Here we are getting to know about the class the given data point belongs of\n",
    "                                              ## the predictions that we have done\n",
    "correct_lables=tf.argmax(y,1)                 ## Here we are getting the class of the testing data."
   ]
  },
  {
   "cell_type": "code",
   "execution_count": 88,
   "metadata": {},
   "outputs": [],
   "source": [
    "correct_predictions=tf.equal(predictions,correct_lables)  ## Here we are finding the no of correct predictions."
   ]
  },
  {
   "cell_type": "code",
   "execution_count": 89,
   "metadata": {},
   "outputs": [],
   "source": [
    "cost=tf.reduce_mean(tf.nn.softmax_cross_entropy_with_logits(logits=pred,labels=y))  ## We are gettng to know about our \n",
    "                                                                                    ## predictions."
   ]
  },
  {
   "cell_type": "code",
   "execution_count": 90,
   "metadata": {},
   "outputs": [],
   "source": [
    "optimizer=tf.train.AdamOptimizer(learning_rate=0.01)     ## Now we are using optimizer called \"Adam\" optimizer which is\n",
    "                                                         ## backtracking through the layers to find about the optimum values\n",
    "                                                         ## of the weight and biases.\n",
    "optimize=optimizer.minimize(cost)\n",
    "sess=tf.Session()\n",
    "sess.run(tf.global_variables_initializer())"
   ]
  },
  {
   "cell_type": "code",
   "execution_count": 92,
   "metadata": {},
   "outputs": [],
   "source": [
    "batch_size=100                                            ## We are passsing our dataset in the batch of 100 for getting the\n",
    "                                                          ## optimum cost .\n",
    "for i in range(25):\n",
    "    num_batches=int(mnist.train.num_examples/batch_size)\n",
    "    total_cost=0\n",
    "    for j in range(num_batches):\n",
    "        batch_x,batch_y=mnist.train.next_batch(batch_size)\n",
    "        c,_=sess.run([cost,optimize],feed_dict={x:batch_x,y:batch_y})"
   ]
  },
  {
   "cell_type": "code",
   "execution_count": null,
   "metadata": {},
   "outputs": [],
   "source": [
    "## Finally we got our predictions."
   ]
  },
  {
   "cell_type": "code",
   "execution_count": 93,
   "metadata": {},
   "outputs": [],
   "source": [
    "predictions_eval,labels,correct_pred=sess.run([predictions,correct_lables,correct_predictions],feed_dict={x:mnist.test.images,y:mnist.test.labels})"
   ]
  },
  {
   "cell_type": "code",
   "execution_count": 94,
   "metadata": {},
   "outputs": [
    {
     "data": {
      "text/plain": [
       "9638"
      ]
     },
     "execution_count": 94,
     "metadata": {},
     "output_type": "execute_result"
    }
   ],
   "source": [
    "correct_pred.sum()"
   ]
  }
 ],
 "metadata": {
  "kernelspec": {
   "display_name": "Python 3",
   "language": "python",
   "name": "python3"
  },
  "language_info": {
   "codemirror_mode": {
    "name": "ipython",
    "version": 3
   },
   "file_extension": ".py",
   "mimetype": "text/x-python",
   "name": "python",
   "nbconvert_exporter": "python",
   "pygments_lexer": "ipython3",
   "version": "3.7.3"
  }
 },
 "nbformat": 4,
 "nbformat_minor": 2
}
